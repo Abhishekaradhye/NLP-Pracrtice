{
  "cells": [
    {
      "cell_type": "code",
      "execution_count": 1,
      "metadata": {
        "colab": {
          "base_uri": "https://localhost:8080/"
        },
        "id": "-IYpcyriMq0v",
        "outputId": "7d7d2a0a-970a-4cfc-d2bc-b04661416681"
      },
      "outputs": [
        {
          "name": "stdout",
          "output_type": "stream",
          "text": [
            "--2025-02-22 15:07:33--  https://archive.org/download/google-news-vectors-negative-300.bin_202311/GoogleNews-vectors-negative300.bin.gz\n",
            "Resolving archive.org (archive.org)... 207.241.224.2\n",
            "Connecting to archive.org (archive.org)|207.241.224.2|:443... connected.\n",
            "HTTP request sent, awaiting response... 302 Found\n",
            "Location: https://ia801203.us.archive.org/18/items/google-news-vectors-negative-300.bin_202311/GoogleNews-vectors-negative300.bin.gz [following]\n",
            "--2025-02-22 15:07:34--  https://ia801203.us.archive.org/18/items/google-news-vectors-negative-300.bin_202311/GoogleNews-vectors-negative300.bin.gz\n",
            "Resolving ia801203.us.archive.org (ia801203.us.archive.org)... 207.241.228.23\n",
            "Connecting to ia801203.us.archive.org (ia801203.us.archive.org)|207.241.228.23|:443... connected.\n",
            "HTTP request sent, awaiting response... 200 OK\n",
            "Length: 1647046227 (1.5G) [application/octet-stream]\n",
            "Saving to: ‘GoogleNews-vectors-negative300.bin.gz’\n",
            "\n",
            "GoogleNews-vectors- 100%[===================>]   1.53G  2.34MB/s    in 8m 27s  \n",
            "\n",
            "2025-02-22 15:16:01 (3.10 MB/s) - ‘GoogleNews-vectors-negative300.bin.gz’ saved [1647046227/1647046227]\n",
            "\n"
          ]
        }
      ],
      "source": [
        "!wget -nc https://archive.org/download/google-news-vectors-negative-300.bin_202311/GoogleNews-vectors-negative300.bin.gz\n"
      ]
    },
    {
      "cell_type": "code",
      "execution_count": 2,
      "metadata": {
        "id": "op7TBlg3Mu99"
      },
      "outputs": [],
      "source": [
        "!gunzip GoogleNews-vectors-negative300.bin.gz\n"
      ]
    },
    {
      "cell_type": "code",
      "execution_count": 3,
      "metadata": {
        "id": "hi-bWGM2M1In"
      },
      "outputs": [],
      "source": [
        "from gensim.models import KeyedVectors"
      ]
    },
    {
      "cell_type": "code",
      "execution_count": 4,
      "metadata": {
        "id": "Wt2XapriM4kY"
      },
      "outputs": [],
      "source": [
        "word_vectors = KeyedVectors.load_word2vec_format(\n",
        "  'GoogleNews-vectors-negative300.bin',\n",
        "  binary=True\n",
        ")"
      ]
    },
    {
      "cell_type": "code",
      "execution_count": 5,
      "metadata": {
        "id": "VkHOrgU7M8gf"
      },
      "outputs": [],
      "source": [
        "def find_analogies(w1, w2, w3):\n",
        "  # w1 - w2 = ? - w3\n",
        "  # e.g. king - man = ? - woman\n",
        "  #      ? = +king +woman -man\n",
        "  r = word_vectors.most_similar(positive=[w1, w3], negative=[w2])\n",
        "  print(\"%s - %s = %s - %s\" % (w1, w2, r[0][0], w3))"
      ]
    },
    {
      "cell_type": "code",
      "execution_count": 6,
      "metadata": {
        "colab": {
          "base_uri": "https://localhost:8080/"
        },
        "id": "6eoo56ylM_aq",
        "outputId": "4356d26a-0fd9-42c6-bc0c-d165daaa9ad7"
      },
      "outputs": [
        {
          "name": "stdout",
          "output_type": "stream",
          "text": [
            "king - man = queen - woman\n"
          ]
        }
      ],
      "source": [
        "find_analogies('king', 'man', 'woman')"
      ]
    },
    {
      "cell_type": "code",
      "execution_count": 7,
      "metadata": {
        "colab": {
          "base_uri": "https://localhost:8080/"
        },
        "id": "Yc8hi22QNCes",
        "outputId": "8c0079e5-07dc-467f-f9c3-3a08e1825e13"
      },
      "outputs": [
        {
          "name": "stdout",
          "output_type": "stream",
          "text": [
            "france - paris = italy - rome\n"
          ]
        }
      ],
      "source": [
        "find_analogies('france', 'paris', 'rome')"
      ]
    },
    {
      "cell_type": "code",
      "execution_count": 8,
      "metadata": {
        "colab": {
          "base_uri": "https://localhost:8080/"
        },
        "id": "ZYxzKSRfNFu-",
        "outputId": "fd5a8e29-a4dd-4ba6-d9af-23eb6e47adc4"
      },
      "outputs": [
        {
          "name": "stdout",
          "output_type": "stream",
          "text": [
            "English - England = Hindi - India\n"
          ]
        }
      ],
      "source": [
        "find_analogies('English', 'England', 'India')"
      ]
    },
    {
      "cell_type": "code",
      "execution_count": 9,
      "metadata": {
        "colab": {
          "base_uri": "https://localhost:8080/"
        },
        "id": "zP2wMNrONTDL",
        "outputId": "c1fd022d-75ee-4fb1-87df-e71f8818c381"
      },
      "outputs": [
        {
          "name": "stdout",
          "output_type": "stream",
          "text": [
            "december - november = september - june\n"
          ]
        }
      ],
      "source": [
        "find_analogies('december', 'november', 'june')"
      ]
    },
    {
      "cell_type": "code",
      "execution_count": 10,
      "metadata": {
        "colab": {
          "base_uri": "https://localhost:8080/"
        },
        "id": "J0Z0r3jWNWCI",
        "outputId": "0e02527b-c646-4e99-ed46-c17f5ee95d90"
      },
      "outputs": [
        {
          "name": "stdout",
          "output_type": "stream",
          "text": [
            "man - woman = uncle - aunt\n"
          ]
        }
      ],
      "source": [
        "find_analogies('man', 'woman', 'aunt')"
      ]
    },
    {
      "cell_type": "code",
      "execution_count": 11,
      "metadata": {
        "colab": {
          "base_uri": "https://localhost:8080/"
        },
        "id": "LHE1WbwiNZan",
        "outputId": "8c2a6c39-d1c0-4111-ad29-f917e8f765ff"
      },
      "outputs": [
        {
          "name": "stdout",
          "output_type": "stream",
          "text": [
            "nephew - niece = uncle - aunt\n"
          ]
        }
      ],
      "source": [
        "find_analogies('nephew', 'niece', 'aunt')"
      ]
    },
    {
      "cell_type": "code",
      "execution_count": 12,
      "metadata": {
        "id": "Eb8V-cvbNclr"
      },
      "outputs": [],
      "source": [
        "def nearest_neighbors(w):\n",
        "  r = word_vectors.most_similar(positive=[w])\n",
        "  print(\"neighbors of: %s\" % w)\n",
        "  for word, score in r:\n",
        "    print(\"\\t%s\" % word)"
      ]
    },
    {
      "cell_type": "code",
      "execution_count": 13,
      "metadata": {
        "colab": {
          "base_uri": "https://localhost:8080/"
        },
        "id": "mqumgXHvNfUu",
        "outputId": "b10ed2db-9ba0-47d4-bf67-7c4995b77577"
      },
      "outputs": [
        {
          "name": "stdout",
          "output_type": "stream",
          "text": [
            "neighbors of: king\n",
            "\tkings\n",
            "\tqueen\n",
            "\tmonarch\n",
            "\tcrown_prince\n",
            "\tprince\n",
            "\tsultan\n",
            "\truler\n",
            "\tprinces\n",
            "\tPrince_Paras\n",
            "\tthrone\n"
          ]
        }
      ],
      "source": [
        "nearest_neighbors('king')"
      ]
    },
    {
      "cell_type": "code",
      "execution_count": 14,
      "metadata": {
        "colab": {
          "base_uri": "https://localhost:8080/"
        },
        "id": "uCtPKzunNh5E",
        "outputId": "25ef142e-84ac-4d79-95d6-8bec89af3d7b"
      },
      "outputs": [
        {
          "name": "stdout",
          "output_type": "stream",
          "text": [
            "neighbors of: India\n",
            "\tIndias\n",
            "\tIndiaâ_€_™\n",
            "\tPakistan\n",
            "\tDelhi\n",
            "\tBangalore\n",
            "\tsubcontinent\n",
            "\tBangladesh\n",
            "\tsub_continent\n",
            "\tMumbai\n",
            "\tSri_Lanka\n"
          ]
        }
      ],
      "source": [
        "nearest_neighbors('India')"
      ]
    },
    {
      "cell_type": "code",
      "execution_count": 15,
      "metadata": {
        "colab": {
          "base_uri": "https://localhost:8080/"
        },
        "id": "bCIv5h1ENmTE",
        "outputId": "b7e2697c-3689-4853-902e-6668c1beec79"
      },
      "outputs": [
        {
          "name": "stdout",
          "output_type": "stream",
          "text": [
            "neighbors of: february\n",
            "\tjanuary\n",
            "\tapril\n",
            "\tseptember\n",
            "\tdecember\n",
            "\tjuly\n",
            "\toctober\n",
            "\tnovember\n",
            "\tjune\n",
            "\tfeb\n",
            "\tnorway\n"
          ]
        }
      ],
      "source": [
        "nearest_neighbors('february')"
      ]
    },
    {
      "cell_type": "code",
      "execution_count": 16,
      "metadata": {
        "colab": {
          "base_uri": "https://localhost:8080/"
        },
        "id": "-_eC0nxtNqr_",
        "outputId": "a97e345a-dd3c-40b9-cf17-d177e4ea8bd2"
      },
      "outputs": [
        {
          "name": "stdout",
          "output_type": "stream",
          "text": [
            "neighbors of: Strength\n",
            "\tstrength\n",
            "\tConditioning_Coordinator\n",
            "\tPatriotic_Millionaires\n",
            "\tWeakness\n",
            "\tZacks_Discounted_Fundamental\n",
            "\tDigestive_Enzymes\n",
            "\tStrong\n",
            "\tConditioning_Coaches\n",
            "\tConditioning_Specialist_CSCS\n",
            "\tFirmness\n"
          ]
        }
      ],
      "source": [
        "nearest_neighbors('Strength')"
      ]
    },
    {
      "cell_type": "code",
      "execution_count": null,
      "metadata": {
        "id": "MGZOISEPNv_z"
      },
      "outputs": [],
      "source": []
    }
  ],
  "metadata": {
    "colab": {
      "provenance": []
    },
    "kernelspec": {
      "display_name": "Python 3",
      "name": "python3"
    },
    "language_info": {
      "name": "python",
      "version": "3.10.8"
    }
  },
  "nbformat": 4,
  "nbformat_minor": 0
}
